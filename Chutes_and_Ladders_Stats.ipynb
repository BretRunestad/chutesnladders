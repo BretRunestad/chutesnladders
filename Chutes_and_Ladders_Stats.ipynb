{
 "cells": [
  {
   "cell_type": "code",
   "execution_count": 209,
   "metadata": {
    "collapsed": true
   },
   "outputs": [],
   "source": [
    "import random\n",
    "import pdb"
   ]
  },
  {
   "cell_type": "code",
   "execution_count": 147,
   "metadata": {
    "collapsed": false
   },
   "outputs": [],
   "source": [
    "class Player:\n",
    "    \n",
    "    def __init__(self, position=0):\n",
    "        self.position = position"
   ]
  },
  {
   "cell_type": "code",
   "execution_count": 149,
   "metadata": {
    "collapsed": false
   },
   "outputs": [],
   "source": [
    "def roll():\n",
    "    x = random.randint(1,6)\n",
    "    return x"
   ]
  },
  {
   "cell_type": "code",
   "execution_count": 150,
   "metadata": {
    "collapsed": false
   },
   "outputs": [],
   "source": [
    "def play_game():\n",
    "    turns = 0\n",
    "    ladders = 0\n",
    "    chutes = 0\n",
    "    \n",
    "    player = Player()\n",
    "    ladder_dict = {1:38, 4:14, 9:31, 21:42, 28:84, 36:44, 51:67, 71:91, 80:100}\n",
    "    chute_dict = {98:78, 95:75, 93:73, 87:24, 64:60, 62:19, 56:53, 49:11, 48:26, 16:6}\n",
    "    \n",
    "    while player.position < 100:\n",
    "        player.position = player.position + roll()\n",
    "        for key in ladder_dict:\n",
    "            if player.position == key:\n",
    "                player.position = ladder_dict[key]\n",
    "                ladders += 1\n",
    "        for key in chute_dict:\n",
    "            if player.position == key:\n",
    "                player.position = chute_dict[key]\n",
    "                chutes += 1\n",
    "        turns += 1\n",
    "    return turns, ladders, chutes"
   ]
  },
  {
   "cell_type": "code",
   "execution_count": 217,
   "metadata": {
    "collapsed": false
   },
   "outputs": [],
   "source": [
    "def game_player(games_played):\n",
    "    fastest = 999\n",
    "    slowest = 0\n",
    "    total_turns = 0\n",
    "    total_ladders = 0\n",
    "    total_chutes = 0\n",
    "    for _ in range(games_played):\n",
    "        turns, ladders, chutes = play_game()\n",
    "        if turns < fastest:\n",
    "            fastest = turns\n",
    "        if turns > slowest:\n",
    "            slowest = turns\n",
    "        total_turns += turns\n",
    "        total_ladders += ladders\n",
    "        total_chutes += chutes\n",
    "    avg_turns = total_turns / games_played\n",
    "    avg_ladders = total_ladders / games_played\n",
    "    avg_chutes = total_chutes / games_played\n",
    "    return avg_turns, fastest, slowest, avg_ladders, avg_chutes\n",
    "        "
   ]
  },
  {
   "cell_type": "code",
   "execution_count": 221,
   "metadata": {
    "collapsed": false
   },
   "outputs": [
    {
     "data": {
      "text/plain": [
       "(35.96078, 7, 326, 3.25449, 3.97243)"
      ]
     },
     "execution_count": 221,
     "metadata": {},
     "output_type": "execute_result"
    }
   ],
   "source": [
    "game_player(100000)"
   ]
  }
 ],
 "metadata": {
  "kernelspec": {
   "display_name": "Python 3",
   "language": "python",
   "name": "python3"
  },
  "language_info": {
   "codemirror_mode": {
    "name": "ipython",
    "version": 3
   },
   "file_extension": ".py",
   "mimetype": "text/x-python",
   "name": "python",
   "nbconvert_exporter": "python",
   "pygments_lexer": "ipython3",
   "version": "3.4.2"
  }
 },
 "nbformat": 4,
 "nbformat_minor": 0
}
